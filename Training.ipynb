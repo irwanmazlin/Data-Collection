{
 "cells": [
  {
   "cell_type": "code",
   "execution_count": 1,
   "id": "bd888243",
   "metadata": {},
   "outputs": [
    {
     "name": "stdout",
     "output_type": "stream",
     "text": [
      "Requirement already satisfied: fiftyone in /home/irwan/miniconda3/envs/fiftyone/lib/python3.7/site-packages (0.17.2)\n",
      "Requirement already satisfied: Jinja2>=3 in /home/irwan/miniconda3/envs/fiftyone/lib/python3.7/site-packages (from fiftyone) (3.1.2)\n",
      "Requirement already satisfied: plotly>=4.14 in /home/irwan/miniconda3/envs/fiftyone/lib/python3.7/site-packages (from fiftyone) (5.10.0)\n",
      "Requirement already satisfied: retrying in /home/irwan/miniconda3/envs/fiftyone/lib/python3.7/site-packages (from fiftyone) (1.3.3)\n",
      "Requirement already satisfied: eventlet in /home/irwan/miniconda3/envs/fiftyone/lib/python3.7/site-packages (from fiftyone) (0.33.1)\n",
      "Requirement already satisfied: matplotlib in /home/irwan/miniconda3/envs/fiftyone/lib/python3.7/site-packages (from fiftyone) (3.5.3)\n",
      "Requirement already satisfied: tabulate in /home/irwan/miniconda3/envs/fiftyone/lib/python3.7/site-packages (from fiftyone) (0.8.10)\n",
      "Requirement already satisfied: scikit-learn in /home/irwan/miniconda3/envs/fiftyone/lib/python3.7/site-packages (from fiftyone) (1.0.2)\n",
      "Requirement already satisfied: mongoengine==0.20.0 in /home/irwan/miniconda3/envs/fiftyone/lib/python3.7/site-packages (from fiftyone) (0.20.0)\n",
      "Requirement already satisfied: pandas in /home/irwan/miniconda3/envs/fiftyone/lib/python3.7/site-packages (from fiftyone) (1.3.5)\n",
      "Requirement already satisfied: packaging in /home/irwan/miniconda3/envs/fiftyone/lib/python3.7/site-packages (from fiftyone) (21.3)\n",
      "Requirement already satisfied: pytz in /home/irwan/miniconda3/envs/fiftyone/lib/python3.7/site-packages (from fiftyone) (2022.2.1)\n",
      "Requirement already satisfied: kaleido in /home/irwan/miniconda3/envs/fiftyone/lib/python3.7/site-packages (from fiftyone) (0.2.1)\n",
      "Requirement already satisfied: xmltodict in /home/irwan/miniconda3/envs/fiftyone/lib/python3.7/site-packages (from fiftyone) (0.13.0)\n",
      "Requirement already satisfied: setuptools in /home/irwan/miniconda3/envs/fiftyone/lib/python3.7/site-packages (from fiftyone) (59.5.0)\n",
      "Requirement already satisfied: sseclient-py<2,>=1.7.2 in /home/irwan/miniconda3/envs/fiftyone/lib/python3.7/site-packages (from fiftyone) (1.7.2)\n",
      "Requirement already satisfied: numpy in /home/irwan/miniconda3/envs/fiftyone/lib/python3.7/site-packages (from fiftyone) (1.21.6)\n",
      "Requirement already satisfied: motor<3,>=2.3 in /home/irwan/miniconda3/envs/fiftyone/lib/python3.7/site-packages (from fiftyone) (2.5.1)\n",
      "Requirement already satisfied: psutil in /home/irwan/miniconda3/envs/fiftyone/lib/python3.7/site-packages (from fiftyone) (5.9.2)\n",
      "Requirement already satisfied: future in /home/irwan/miniconda3/envs/fiftyone/lib/python3.7/site-packages (from fiftyone) (0.18.2)\n",
      "Requirement already satisfied: boto3 in /home/irwan/miniconda3/envs/fiftyone/lib/python3.7/site-packages (from fiftyone) (1.24.80)\n",
      "Requirement already satisfied: pymongo<4,>=3.11 in /home/irwan/miniconda3/envs/fiftyone/lib/python3.7/site-packages (from fiftyone) (3.12.3)\n",
      "Requirement already satisfied: voxel51-eta<0.9,>=0.8.1 in /home/irwan/miniconda3/envs/fiftyone/lib/python3.7/site-packages (from fiftyone) (0.8.1)\n",
      "Requirement already satisfied: Pillow>=6.2 in /home/irwan/miniconda3/envs/fiftyone/lib/python3.7/site-packages (from fiftyone) (9.2.0)\n",
      "Requirement already satisfied: fiftyone-db<0.4,>=0.3 in /home/irwan/miniconda3/envs/fiftyone/lib/python3.7/site-packages (from fiftyone) (0.3.0)\n",
      "Requirement already satisfied: PyYAML in /home/irwan/miniconda3/envs/fiftyone/lib/python3.7/site-packages (from fiftyone) (5.1)\n",
      "Requirement already satisfied: sse-starlette<1,>=0.10.3 in /home/irwan/miniconda3/envs/fiftyone/lib/python3.7/site-packages (from fiftyone) (0.10.3)\n",
      "Requirement already satisfied: hypercorn>=0.13.2 in /home/irwan/miniconda3/envs/fiftyone/lib/python3.7/site-packages (from fiftyone) (0.14.3)\n",
      "Requirement already satisfied: fiftyone-brain<0.10,>=0.9.1 in /home/irwan/miniconda3/envs/fiftyone/lib/python3.7/site-packages (from fiftyone) (0.9.1)\n",
      "Requirement already satisfied: strawberry-graphql==0.96.0 in /home/irwan/miniconda3/envs/fiftyone/lib/python3.7/site-packages (from fiftyone) (0.96.0)\n",
      "Requirement already satisfied: pprintpp in /home/irwan/miniconda3/envs/fiftyone/lib/python3.7/site-packages (from fiftyone) (0.4.0)\n",
      "Requirement already satisfied: opencv-python-headless in /home/irwan/miniconda3/envs/fiftyone/lib/python3.7/site-packages (from fiftyone) (4.6.0.66)\n",
      "Requirement already satisfied: dacite>=1.6.0 in /home/irwan/miniconda3/envs/fiftyone/lib/python3.7/site-packages (from fiftyone) (1.6.0)\n",
      "Requirement already satisfied: universal-analytics-python3<2,>=1.0.1 in /home/irwan/miniconda3/envs/fiftyone/lib/python3.7/site-packages (from fiftyone) (1.1.1)\n",
      "Requirement already satisfied: ndjson in /home/irwan/miniconda3/envs/fiftyone/lib/python3.7/site-packages (from fiftyone) (0.3.1)\n",
      "Requirement already satisfied: argcomplete in /home/irwan/miniconda3/envs/fiftyone/lib/python3.7/site-packages (from fiftyone) (2.0.0)\n",
      "Requirement already satisfied: aiofiles in /home/irwan/miniconda3/envs/fiftyone/lib/python3.7/site-packages (from fiftyone) (22.1.0)\n",
      "Requirement already satisfied: starlette==0.16.0 in /home/irwan/miniconda3/envs/fiftyone/lib/python3.7/site-packages (from fiftyone) (0.16.0)\n",
      "Requirement already satisfied: scikit-image in /home/irwan/miniconda3/envs/fiftyone/lib/python3.7/site-packages (from fiftyone) (0.19.3)\n",
      "Requirement already satisfied: Deprecated in /home/irwan/miniconda3/envs/fiftyone/lib/python3.7/site-packages (from fiftyone) (1.2.13)\n",
      "Requirement already satisfied: typing-extensions in /home/irwan/miniconda3/envs/fiftyone/lib/python3.7/site-packages (from starlette==0.16.0->fiftyone) (4.3.0)\n",
      "Requirement already satisfied: anyio<4,>=3.0.0 in /home/irwan/miniconda3/envs/fiftyone/lib/python3.7/site-packages (from starlette==0.16.0->fiftyone) (3.6.1)\n",
      "Requirement already satisfied: click<9.0,>=7.0 in /home/irwan/miniconda3/envs/fiftyone/lib/python3.7/site-packages (from strawberry-graphql==0.96.0->fiftyone) (8.1.3)\n",
      "Requirement already satisfied: pygments<3.0,>=2.3 in /home/irwan/miniconda3/envs/fiftyone/lib/python3.7/site-packages (from strawberry-graphql==0.96.0->fiftyone) (2.13.0)\n",
      "Requirement already satisfied: python-dateutil<3.0.0,>=2.7.0 in /home/irwan/miniconda3/envs/fiftyone/lib/python3.7/site-packages (from strawberry-graphql==0.96.0->fiftyone) (2.8.2)\n",
      "Requirement already satisfied: python-multipart<0.0.6,>=0.0.5 in /home/irwan/miniconda3/envs/fiftyone/lib/python3.7/site-packages (from strawberry-graphql==0.96.0->fiftyone) (0.0.5)\n",
      "Requirement already satisfied: backports.cached-property<2.0.0,>=1.0.1 in /home/irwan/miniconda3/envs/fiftyone/lib/python3.7/site-packages (from strawberry-graphql==0.96.0->fiftyone) (1.0.2)\n",
      "Requirement already satisfied: graphql-core<3.2.0,>=3.1.0 in /home/irwan/miniconda3/envs/fiftyone/lib/python3.7/site-packages (from strawberry-graphql==0.96.0->fiftyone) (3.1.7)\n",
      "Requirement already satisfied: sentinel<0.4.0,>=0.3.0 in /home/irwan/miniconda3/envs/fiftyone/lib/python3.7/site-packages (from strawberry-graphql==0.96.0->fiftyone) (0.3.0)\n",
      "Requirement already satisfied: scipy>=1.2.0 in /home/irwan/miniconda3/envs/fiftyone/lib/python3.7/site-packages (from fiftyone-brain<0.10,>=0.9.1->fiftyone) (1.7.3)\n",
      "Requirement already satisfied: h11 in /home/irwan/miniconda3/envs/fiftyone/lib/python3.7/site-packages (from hypercorn>=0.13.2->fiftyone) (0.12.0)\n",
      "Requirement already satisfied: toml in /home/irwan/miniconda3/envs/fiftyone/lib/python3.7/site-packages (from hypercorn>=0.13.2->fiftyone) (0.10.2)\n",
      "Requirement already satisfied: wsproto>=0.14.0 in /home/irwan/miniconda3/envs/fiftyone/lib/python3.7/site-packages (from hypercorn>=0.13.2->fiftyone) (1.2.0)\n",
      "Requirement already satisfied: h2>=3.1.0 in /home/irwan/miniconda3/envs/fiftyone/lib/python3.7/site-packages (from hypercorn>=0.13.2->fiftyone) (4.1.0)\n",
      "Requirement already satisfied: priority in /home/irwan/miniconda3/envs/fiftyone/lib/python3.7/site-packages (from hypercorn>=0.13.2->fiftyone) (2.0.0)\n",
      "Requirement already satisfied: MarkupSafe>=2.0 in /home/irwan/miniconda3/envs/fiftyone/lib/python3.7/site-packages (from Jinja2>=3->fiftyone) (2.1.1)\n",
      "Requirement already satisfied: tenacity>=6.2.0 in /home/irwan/miniconda3/envs/fiftyone/lib/python3.7/site-packages (from plotly>=4.14->fiftyone) (8.1.0)\n"
     ]
    },
    {
     "name": "stdout",
     "output_type": "stream",
     "text": [
      "Requirement already satisfied: httpx>=0.10.0 in /home/irwan/miniconda3/envs/fiftyone/lib/python3.7/site-packages (from universal-analytics-python3<2,>=1.0.1->fiftyone) (0.23.0)\n",
      "Requirement already satisfied: tzlocal in /home/irwan/miniconda3/envs/fiftyone/lib/python3.7/site-packages (from voxel51-eta<0.9,>=0.8.1->fiftyone) (4.2)\n",
      "Requirement already satisfied: requests in /home/irwan/miniconda3/envs/fiftyone/lib/python3.7/site-packages (from voxel51-eta<0.9,>=0.8.1->fiftyone) (2.28.1)\n",
      "Requirement already satisfied: sortedcontainers in /home/irwan/miniconda3/envs/fiftyone/lib/python3.7/site-packages (from voxel51-eta<0.9,>=0.8.1->fiftyone) (2.4.0)\n",
      "Requirement already satisfied: six in /home/irwan/miniconda3/envs/fiftyone/lib/python3.7/site-packages (from voxel51-eta<0.9,>=0.8.1->fiftyone) (1.16.0)\n",
      "Requirement already satisfied: patool in /home/irwan/miniconda3/envs/fiftyone/lib/python3.7/site-packages (from voxel51-eta<0.9,>=0.8.1->fiftyone) (1.12)\n",
      "Requirement already satisfied: glob2 in /home/irwan/miniconda3/envs/fiftyone/lib/python3.7/site-packages (from voxel51-eta<0.9,>=0.8.1->fiftyone) (0.7)\n",
      "Requirement already satisfied: dill in /home/irwan/miniconda3/envs/fiftyone/lib/python3.7/site-packages (from voxel51-eta<0.9,>=0.8.1->fiftyone) (0.3.5.1)\n",
      "Requirement already satisfied: importlib-metadata in /home/irwan/miniconda3/envs/fiftyone/lib/python3.7/site-packages (from voxel51-eta<0.9,>=0.8.1->fiftyone) (4.12.0)\n",
      "Requirement already satisfied: urllib3 in /home/irwan/miniconda3/envs/fiftyone/lib/python3.7/site-packages (from voxel51-eta<0.9,>=0.8.1->fiftyone) (1.26.12)\n",
      "Requirement already satisfied: botocore<1.28.0,>=1.27.80 in /home/irwan/miniconda3/envs/fiftyone/lib/python3.7/site-packages (from boto3->fiftyone) (1.27.80)\n",
      "Requirement already satisfied: s3transfer<0.7.0,>=0.6.0 in /home/irwan/miniconda3/envs/fiftyone/lib/python3.7/site-packages (from boto3->fiftyone) (0.6.0)\n",
      "Requirement already satisfied: jmespath<2.0.0,>=0.7.1 in /home/irwan/miniconda3/envs/fiftyone/lib/python3.7/site-packages (from boto3->fiftyone) (1.0.1)\n",
      "Requirement already satisfied: wrapt<2,>=1.10 in /home/irwan/miniconda3/envs/fiftyone/lib/python3.7/site-packages (from Deprecated->fiftyone) (1.14.1)\n",
      "Requirement already satisfied: dnspython>=1.15.0 in /home/irwan/miniconda3/envs/fiftyone/lib/python3.7/site-packages (from eventlet->fiftyone) (2.2.1)\n",
      "Requirement already satisfied: greenlet>=0.3 in /home/irwan/miniconda3/envs/fiftyone/lib/python3.7/site-packages (from eventlet->fiftyone) (1.1.3)\n",
      "Requirement already satisfied: pyparsing>=2.2.1 in /home/irwan/miniconda3/envs/fiftyone/lib/python3.7/site-packages (from matplotlib->fiftyone) (3.0.9)\n",
      "Requirement already satisfied: kiwisolver>=1.0.1 in /home/irwan/miniconda3/envs/fiftyone/lib/python3.7/site-packages (from matplotlib->fiftyone) (1.4.4)\n",
      "Requirement already satisfied: cycler>=0.10 in /home/irwan/miniconda3/envs/fiftyone/lib/python3.7/site-packages (from matplotlib->fiftyone) (0.11.0)\n",
      "Requirement already satisfied: fonttools>=4.22.0 in /home/irwan/miniconda3/envs/fiftyone/lib/python3.7/site-packages (from matplotlib->fiftyone) (4.37.3)\n",
      "Requirement already satisfied: PyWavelets>=1.1.1 in /home/irwan/miniconda3/envs/fiftyone/lib/python3.7/site-packages (from scikit-image->fiftyone) (1.3.0)\n",
      "Requirement already satisfied: networkx>=2.2 in /home/irwan/miniconda3/envs/fiftyone/lib/python3.7/site-packages (from scikit-image->fiftyone) (2.6.3)\n",
      "Requirement already satisfied: imageio>=2.4.1 in /home/irwan/miniconda3/envs/fiftyone/lib/python3.7/site-packages (from scikit-image->fiftyone) (2.22.0)\n",
      "Requirement already satisfied: tifffile>=2019.7.26 in /home/irwan/miniconda3/envs/fiftyone/lib/python3.7/site-packages (from scikit-image->fiftyone) (2021.11.2)\n",
      "Requirement already satisfied: joblib>=0.11 in /home/irwan/miniconda3/envs/fiftyone/lib/python3.7/site-packages (from scikit-learn->fiftyone) (1.2.0)\n",
      "Requirement already satisfied: threadpoolctl>=2.0.0 in /home/irwan/miniconda3/envs/fiftyone/lib/python3.7/site-packages (from scikit-learn->fiftyone) (3.1.0)\n",
      "Requirement already satisfied: sniffio>=1.1 in /home/irwan/miniconda3/envs/fiftyone/lib/python3.7/site-packages (from anyio<4,>=3.0.0->starlette==0.16.0->fiftyone) (1.3.0)\n",
      "Requirement already satisfied: idna>=2.8 in /home/irwan/miniconda3/envs/fiftyone/lib/python3.7/site-packages (from anyio<4,>=3.0.0->starlette==0.16.0->fiftyone) (3.4)\n",
      "Requirement already satisfied: hyperframe<7,>=6.0 in /home/irwan/miniconda3/envs/fiftyone/lib/python3.7/site-packages (from h2>=3.1.0->hypercorn>=0.13.2->fiftyone) (6.0.1)\n",
      "Requirement already satisfied: hpack<5,>=4.0 in /home/irwan/miniconda3/envs/fiftyone/lib/python3.7/site-packages (from h2>=3.1.0->hypercorn>=0.13.2->fiftyone) (4.0.0)\n",
      "Requirement already satisfied: rfc3986[idna2008]<2,>=1.3 in /home/irwan/miniconda3/envs/fiftyone/lib/python3.7/site-packages (from httpx>=0.10.0->universal-analytics-python3<2,>=1.0.1->fiftyone) (1.5.0)\n",
      "Requirement already satisfied: certifi in /home/irwan/miniconda3/envs/fiftyone/lib/python3.7/site-packages (from httpx>=0.10.0->universal-analytics-python3<2,>=1.0.1->fiftyone) (2022.9.14)\n",
      "Requirement already satisfied: httpcore<0.16.0,>=0.15.0 in /home/irwan/miniconda3/envs/fiftyone/lib/python3.7/site-packages (from httpx>=0.10.0->universal-analytics-python3<2,>=1.0.1->fiftyone) (0.15.0)\n",
      "Requirement already satisfied: zipp>=0.5 in /home/irwan/miniconda3/envs/fiftyone/lib/python3.7/site-packages (from importlib-metadata->voxel51-eta<0.9,>=0.8.1->fiftyone) (3.8.1)\n",
      "Requirement already satisfied: charset-normalizer<3,>=2 in /home/irwan/miniconda3/envs/fiftyone/lib/python3.7/site-packages (from requests->voxel51-eta<0.9,>=0.8.1->fiftyone) (2.1.1)\n",
      "Requirement already satisfied: backports.zoneinfo in /home/irwan/miniconda3/envs/fiftyone/lib/python3.7/site-packages (from tzlocal->voxel51-eta<0.9,>=0.8.1->fiftyone) (0.2.1)\n",
      "Requirement already satisfied: pytz-deprecation-shim in /home/irwan/miniconda3/envs/fiftyone/lib/python3.7/site-packages (from tzlocal->voxel51-eta<0.9,>=0.8.1->fiftyone) (0.1.0.post0)\n",
      "Requirement already satisfied: tzdata in /home/irwan/miniconda3/envs/fiftyone/lib/python3.7/site-packages (from pytz-deprecation-shim->tzlocal->voxel51-eta<0.9,>=0.8.1->fiftyone) (2022.2)\n"
     ]
    }
   ],
   "source": [
    "!pip install fiftyone\n"
   ]
  },
  {
   "cell_type": "code",
   "execution_count": 1,
   "id": "d03990dc",
   "metadata": {},
   "outputs": [],
   "source": [
    "import fiftyone as fo\n",
    "import fiftyone.zoo as foz\n"
   ]
  },
  {
   "cell_type": "code",
   "execution_count": 2,
   "id": "c587c78d",
   "metadata": {},
   "outputs": [
    {
     "name": "stdout",
     "output_type": "stream",
     "text": [
      "Requirement already satisfied: pyyaml==5.1 in /home/irwan/miniconda3/envs/fiftyone/lib/python3.7/site-packages (5.1)\r\n"
     ]
    }
   ],
   "source": [
    "!python -m pip install pyyaml==5.1\n",
    "\n",
    "# Detectron2 has not released pre-built binaries for the latest pytorch (https://github.com/facebookresearch/detectron2/issues/4053)\n",
    "# so we install from source instead. This takes a few minutes.\n",
    "# !python -m pip install 'git+https://github.com/facebookresearch/detectron2.git'\n",
    "\n",
    "# Install pre-built detectron2 that matches pytorch version, if released:\n",
    "# See https://detectron2.readthedocs.io/tutorials/install.html for instructions\n",
    "#!pip install detectron2 -f https://dl.fbaipublicfiles.com/detectron2/wheels/{CUDA_VERSION}/{TORCH_VERSION}/index.html"
   ]
  },
  {
   "cell_type": "code",
   "execution_count": 13,
   "id": "affb5729",
   "metadata": {},
   "outputs": [
    {
     "name": "stdout",
     "output_type": "stream",
     "text": [
      "Downloading split 'validation' to '/home/irwan/fiftyone/open-images-v6/validation' if necessary\n",
      "Necessary images already downloaded\n",
      "Existing download of split 'validation' is sufficient\n",
      "Loading existing dataset 'open-images-v6-validation-1000'. To reload from disk, either delete the existing dataset or provide a custom `dataset_name` to use\n"
     ]
    }
   ],
   "source": [
    "dataset = foz.load_zoo_dataset(\n",
    "    \"open-images-v6\", \n",
    "    split=\"validation\", \n",
    "    classes=[\"Table\",\"Chair\",\"Person\"], \n",
    "    label_types=[\"detections\"],\n",
    "    max_samples=1000,\n",
    ")"
   ]
  },
  {
   "cell_type": "code",
   "execution_count": 14,
   "id": "f6d321f3",
   "metadata": {},
   "outputs": [
    {
     "name": "stdout",
     "output_type": "stream",
     "text": [
      "Dataset:     open-images-v6-validation-1000\n",
      "Media type:  image\n",
      "Num samples: 120\n",
      "Sample fields:\n",
      "    id:             fiftyone.core.fields.ObjectIdField\n",
      "    filepath:       fiftyone.core.fields.StringField\n",
      "    tags:           fiftyone.core.fields.ListField(fiftyone.core.fields.StringField)\n",
      "    metadata:       fiftyone.core.fields.EmbeddedDocumentField(fiftyone.core.metadata.ImageMetadata)\n",
      "    detections:     fiftyone.core.fields.EmbeddedDocumentField(fiftyone.core.labels.Detections)\n",
      "    open_images_id: fiftyone.core.fields.StringField\n",
      "View stages:\n",
      "    1. FilterLabels(field='detections', filter={'$in': ['$$this.label', [...]]}, only_matches=True, trajectories=False)\n"
     ]
    }
   ],
   "source": [
    "from fiftyone import ViewField as F\n",
    "view = dataset.filter_labels(\"detections\", F(\"label\").is_in([\"Footwear\"]))\n",
    "print(view)\n",
    "# session = fo.launch_app(view=view)"
   ]
  },
  {
   "cell_type": "code",
   "execution_count": 15,
   "id": "66783667",
   "metadata": {},
   "outputs": [],
   "source": [
    "only_key = \"task1234567891011\"\n",
    "classes=[\"Footwear\"]"
   ]
  },
  {
   "cell_type": "code",
   "execution_count": 16,
   "id": "75c9cd3c",
   "metadata": {},
   "outputs": [
    {
     "name": "stdout",
     "output_type": "stream",
     "text": [
      "Please enter your login credentials.\n",
      "You can avoid this in the future by setting your `FIFTYONE_CVAT_USERNAME` and `FIFTYONE_CVAT_PASSWORD` environment variables\n",
      "Username: irwan24\n",
      "Password: ········\n",
      "Uploading samples to CVAT...\n",
      "Launching editor at 'http://localhost:8080/tasks/49/jobs/39'...\n"
     ]
    }
   ],
   "source": [
    "anno_results = view.annotate(\n",
    "    only_key,\n",
    "    label_field=\"detections\",\n",
    "    label_type=\"detections\",\n",
    "    backend=\"cvat\",\n",
    "    classes=classes,\n",
    "    attributes = False,\n",
    "    task_assignee=\"irwan24\",\n",
    "    url=\"http://localhost:8080\",\n",
    "    launch_editor=True,\n",
    "   \n",
    ")"
   ]
  },
  {
   "cell_type": "code",
   "execution_count": null,
   "id": "c60b438a",
   "metadata": {},
   "outputs": [
    {
     "name": "stdout",
     "output_type": "stream",
     "text": [
      "Please enter your login credentials.\n",
      "You can avoid this in the future by setting your `FIFTYONE_CVAT_USERNAME` and `FIFTYONE_CVAT_PASSWORD` environment variables\n"
     ]
    }
   ],
   "source": [
    "only_key = \"task20141111\"\n",
    "classes=[\"Chair\", \"Table\", \"Person\", \"Footwear\"]\n",
    "anno_results = view.annotate(\n",
    "    only_key,\n",
    "    label_type=\"detections\",\n",
    "    backend=\"cvat\",\n",
    "    classes=classes,\n",
    "    task_assignee=\"irwan24\",\n",
    "    url=\"http://localhost:8080\",\n",
    "    launch_editor=True,\n",
    "   \n",
    ")"
   ]
  },
  {
   "cell_type": "code",
   "execution_count": null,
   "id": "666112c8",
   "metadata": {},
   "outputs": [],
   "source": []
  },
  {
   "cell_type": "code",
   "execution_count": null,
   "id": "5d42b415",
   "metadata": {},
   "outputs": [],
   "source": [
    "\n",
    "# Uncomment this cell if use local directory\n",
    "\n",
    "\n",
    "# #  The directory containing the source images\n",
    "# data_path = \"/content/drive/MyDrive/Untitled Folder/data\"\n",
    "\n",
    "# # The path to the COCO labels JSON file\n",
    "# labels_path = \"/content/drive/MyDrive/Untitled Folder/coco1.json\"\n",
    "\n",
    "# # Import the dataset\n",
    "# dataset2 = fo.Dataset.from_dir(\n",
    "#     dataset_type=fo.types.COCODetectionDataset,\n",
    "#     data_path=data_path,\n",
    "#     labels_path = labels_path,\n",
    "# )\n",
    "\n",
    "# session = fo.launch_app(dataset2)"
   ]
  }
 ],
 "metadata": {
  "kernelspec": {
   "display_name": "Python 3 (ipykernel)",
   "language": "python",
   "name": "python3"
  },
  "language_info": {
   "codemirror_mode": {
    "name": "ipython",
    "version": 3
   },
   "file_extension": ".py",
   "mimetype": "text/x-python",
   "name": "python",
   "nbconvert_exporter": "python",
   "pygments_lexer": "ipython3",
   "version": "3.7.13"
  }
 },
 "nbformat": 4,
 "nbformat_minor": 5
}
